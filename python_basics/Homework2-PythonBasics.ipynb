{
 "cells": [
  {
   "cell_type": "markdown",
   "metadata": {},
   "source": [
    "### Домашнее задание к лекции \"Основы Python\""
   ]
  },
  {
   "cell_type": "markdown",
   "metadata": {},
   "source": [
    "### Задание 1"
   ]
  },
  {
   "cell_type": "code",
   "execution_count": 202,
   "metadata": {},
   "outputs": [
    {
     "name": "stdout",
     "output_type": "stream",
     "text": [
      "Фраза 1 длиннее фразы 2\n"
     ]
    }
   ],
   "source": [
    "phrase_1 = 'Насколько проще было бы писать программы, если бы не заказчики'\n",
    "phrase_2 = '640Кб должно хватить для любых задач. Билл Гейтс (по легенде)'\n",
    "\n",
    "a = len(phrase_1)\n",
    "b = len(phrase_2)\n",
    "\n",
    "if (a > b):\n",
    "    print ('Фраза 1 длиннее фразы 2');\n",
    "else:\n",
    "    print ('Фраза 2 длиннее фразы 1')"
   ]
  },
  {
   "cell_type": "markdown",
   "metadata": {},
   "source": [
    "### Задание 2"
   ]
  },
  {
   "cell_type": "code",
   "execution_count": 205,
   "metadata": {},
   "outputs": [
    {
     "name": "stdout",
     "output_type": "stream",
     "text": [
      "Високосный год\n"
     ]
    }
   ],
   "source": [
    "year = 2020\n",
    "if (year % 4 == 0):\n",
    "    print ('Високосный год')\n",
    "else:\n",
    "    print ('Невисокосный год')"
   ]
  },
  {
   "cell_type": "markdown",
   "metadata": {},
   "source": [
    "### Задание 3"
   ]
  },
  {
   "cell_type": "code",
   "execution_count": 341,
   "metadata": {},
   "outputs": [
    {
     "name": "stdout",
     "output_type": "stream",
     "text": [
      "Введите день своего рождения: 30\n",
      "Введите месяц своего рождения: февраль\n",
      "Ваш знак зодиака:\n",
      "Вы ввели некорректные данные \n"
     ]
    }
   ],
   "source": [
    "dayb = int(input(\"Введите день своего рождения: \"))\n",
    "monthb = str(input(\"Введите месяц своего рождения: \"))\n",
    "znak = str(\"Вы ввели некорректные данные \")\n",
    "# собираем информацию\n",
    "\n",
    "if monthb == \"январь\":\n",
    "    if dayb > 0:\n",
    "        if dayb < 21:\n",
    "            znak = str(\"Козерог\");      \n",
    "    if dayb > 20:\n",
    "        if dayb < 32:\n",
    "            znak = str(\"Водолей\"); \n",
    "if monthb == \"февраль\":\n",
    "    if dayb > 0:\n",
    "        if dayb < 20:\n",
    "            znak = str(\"Водолей\");      \n",
    "    if dayb > 19:\n",
    "        if dayb < 30:\n",
    "            znak = str(\"Рыбы\"); \n",
    "if monthb == \"март\":\n",
    "    if dayb > 0:\n",
    "        if dayb < 21:\n",
    "            znak = str(\"Рыбы\");      \n",
    "    if dayb > 20:\n",
    "        if dayb < 32:\n",
    "            znak = str(\"Овен\"); \n",
    "if monthb == \"апрель\":\n",
    "    if dayb > 0:\n",
    "        if dayb < 21:\n",
    "            znak = str(\"Овен\");      \n",
    "    if dayb > 20:\n",
    "        if dayb < 31:\n",
    "            znak = str(\"Телец\"); \n",
    "if monthb == \"май\":\n",
    "    if dayb > 0:\n",
    "        if dayb < 22:\n",
    "            znak = str(\"Телец\");      \n",
    "    if dayb > 21:\n",
    "        if dayb < 32:\n",
    "            znak = str(\"Близнецы\"); \n",
    "if monthb == \"июнь\":\n",
    "    if dayb > 0:\n",
    "        if dayb < 22:\n",
    "            znak = str(\"Близнецы\");      \n",
    "    if dayb > 21:\n",
    "        if dayb < 31:\n",
    "            znak = str(\"Рак\");\n",
    "if monthb == \"июль\":\n",
    "    if dayb > 0:\n",
    "        if dayb < 23:\n",
    "            znak = str(\"Рак\");      \n",
    "    if dayb > 22:\n",
    "        if dayb < 32:\n",
    "            znak = str(\"Лев\");\n",
    "if monthb == \"август\":\n",
    "    if dayb > 0:\n",
    "        if dayb < 22:\n",
    "            znak = str(\"Лев\");      \n",
    "    if dayb > 21:\n",
    "        if dayb < 32:\n",
    "            znak = str(\"Дева\");\n",
    "if monthb == \"сентябрь\":\n",
    "    if dayb > 0:\n",
    "        if dayb < 24:\n",
    "            znak = str(\"Дева\");      \n",
    "    if dayb > 23:\n",
    "        if dayb < 31:\n",
    "            znak = str(\"Весы\");\n",
    "if monthb == \"октябрь\":\n",
    "    if dayb > 0:\n",
    "        if dayb < 24:\n",
    "            znak = str(\"Весы\");      \n",
    "    if dayb > 23:\n",
    "        if dayb < 32:\n",
    "            znak = str(\"Скорпион\");\n",
    "if monthb == \"ноябрь\":\n",
    "    if dayb > 0:\n",
    "        if dayb < 23:\n",
    "            znak = str(\"Скорпион\");      \n",
    "    if dayb > 22:\n",
    "        if dayb < 31:\n",
    "            znak = str(\"Стрелец\");\n",
    "if monthb == \"декабрь\":\n",
    "    if dayb > 0:\n",
    "        if dayb < 23:\n",
    "            znak = str(\"Стрелец\");      \n",
    "    if dayb > 22:\n",
    "        if dayb < 32:\n",
    "            znak = str(\"Козерог\");\n",
    "# разложим каждый месяц на два периода, в течении которых действует знак\n",
    "\n",
    "    \n",
    "print (\"Ваш знак зодиака:\")\n",
    "print (znak)"
   ]
  },
  {
   "cell_type": "markdown",
   "metadata": {},
   "source": [
    "### Задание 4"
   ]
  },
  {
   "cell_type": "code",
   "execution_count": 201,
   "metadata": {},
   "outputs": [
    {
     "name": "stdout",
     "output_type": "stream",
     "text": [
      "Упаковка для лыж\n"
     ]
    }
   ],
   "source": [
    "length = 205\n",
    "width = 10\n",
    "height = 5\n",
    "\n",
    "a = 0\n",
    "b = 0\n",
    "c = 0\n",
    "d = 0\n",
    "\n",
    "if width < 15:\n",
    "    if length < 15:\n",
    "        if height < 15:\n",
    "            print ('Коробка №1');\n",
    "            d = 1\n",
    "# условие 1\n",
    "\n",
    "if (50 > length > 15):\n",
    "    a = 1\n",
    "if (50 > width > 15):\n",
    "    b = 1\n",
    "if (50 > height > 15):\n",
    "    c = 1    \n",
    "if a + b + c == 3:\n",
    "    print ('Коробка №2');\n",
    "    d = 2\n",
    "# условие 2\n",
    "\n",
    "if length > 200:        \n",
    "    print ('Упаковка для лыж');\n",
    "    d = 3\n",
    "# условие 3\n",
    "\n",
    "if d == 0:\n",
    "    print ('Стандартная коробка №3')\n",
    "# все прочие условия\n"
   ]
  },
  {
   "cell_type": "markdown",
   "metadata": {},
   "source": [
    "### Задание 5"
   ]
  },
  {
   "cell_type": "code",
   "execution_count": 335,
   "metadata": {},
   "outputs": [
    {
     "name": "stdout",
     "output_type": "stream",
     "text": [
      "Счастливый билет!!!\n"
     ]
    }
   ],
   "source": [
    "number = 628556\n",
    "\n",
    "b = int(number % 1000)\n",
    "a = int((number - b) / 1000)\n",
    "# берем два трёхзначных числа\n",
    "\n",
    "c = int((a - int(a % 100)) / 100)\n",
    "\n",
    "d = int(((a % 100) - (a % 10)) / 10)\n",
    "\n",
    "e = a % 10\n",
    "\n",
    "# раскладываем на цифры\n",
    "\n",
    "f = int((b - int(b % 100)) / 100)\n",
    "\n",
    "g = int(((b % 100) - (b % 10)) / 10)\n",
    "\n",
    "h = b % 10\n",
    "\n",
    "# и еще один раз\n",
    "\n",
    "\n",
    "if (c + d + e == f + g + h) :\n",
    "    print ('Счастливый билет!!!')\n",
    "else:\n",
    "    print ('Несчастливый билет. :/ ')\n"
   ]
  },
  {
   "cell_type": "markdown",
   "metadata": {},
   "source": [
    "### Задание 6"
   ]
  },
  {
   "cell_type": "code",
   "execution_count": 1,
   "metadata": {},
   "outputs": [
    {
     "name": "stdout",
     "output_type": "stream",
     "text": [
      "Введите название фигуры: круг\n",
      "Введите радиус: 10\n",
      "Площадь фигуры равна: \n",
      "314.1592653589793\n"
     ]
    }
   ],
   "source": [
    "import math\n",
    "\n",
    "figure = str(input(\"Введите название фигуры: \"))\n",
    "\n",
    "if figure == \"треугольник\":\n",
    "    a = float(input(\"Введите длину стороны A: \"))\n",
    "    b = float(input(\"Введите длину стороны B: \"))\n",
    "    c = float(input(\"Введите длину стороны C: \"))\n",
    "    p = (a + b + c) / 2          \n",
    "    s = math.sqrt ((p * (p - a) * (p - b) * (p - c)))\n",
    "    \n",
    "elif figure == \"прямоугольник\":\n",
    "    a = float(input(\"Введите длину стороны A: \"))\n",
    "    b = float(input(\"Введите длину стороны B: \"))\n",
    "    s = a * b\n",
    "    \n",
    "elif figure == \"круг\":\n",
    "    r = float(input(\"Введите радиус: \"))\n",
    "    s = math.pi * (r ** 2)\n",
    "    \n",
    "    \n",
    "print(\"Площадь фигуры равна: \")\n",
    "print(s)\n"
   ]
  },
  {
   "cell_type": "code",
   "execution_count": null,
   "metadata": {},
   "outputs": [],
   "source": []
  },
  {
   "cell_type": "code",
   "execution_count": null,
   "metadata": {},
   "outputs": [],
   "source": []
  }
 ],
 "metadata": {
  "kernelspec": {
   "display_name": "Python 3",
   "language": "python",
   "name": "python3"
  },
  "language_info": {
   "codemirror_mode": {
    "name": "ipython",
    "version": 3
   },
   "file_extension": ".py",
   "mimetype": "text/x-python",
   "name": "python",
   "nbconvert_exporter": "python",
   "pygments_lexer": "ipython3",
   "version": "3.8.3"
  }
 },
 "nbformat": 4,
 "nbformat_minor": 4
}
